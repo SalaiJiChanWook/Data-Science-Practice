{
 "cells": [
  {
   "cell_type": "markdown",
   "id": "2766e417",
   "metadata": {},
   "source": [
    "## Day - 3"
   ]
  },
  {
   "cell_type": "code",
   "execution_count": 32,
   "id": "6f9d92e4",
   "metadata": {},
   "outputs": [],
   "source": [
    "a = ['s','a','l']\n",
    "b = ['a','i']\n",
    "c = [7,8,9]"
   ]
  },
  {
   "cell_type": "code",
   "execution_count": 33,
   "id": "41d106c1",
   "metadata": {},
   "outputs": [
    {
     "name": "stdout",
     "output_type": "stream",
     "text": [
      "['s', 'a', 'l', ['a', 'i']]\n"
     ]
    }
   ],
   "source": [
    "a.append(b)\n",
    "print(a)"
   ]
  },
  {
   "cell_type": "code",
   "execution_count": 34,
   "id": "a35c7fa4",
   "metadata": {},
   "outputs": [
    {
     "name": "stdout",
     "output_type": "stream",
     "text": [
      "['a', 'i', 7, 8, 9]\n"
     ]
    }
   ],
   "source": [
    "b.extend(c)\n",
    "print(b)"
   ]
  },
  {
   "cell_type": "code",
   "execution_count": 35,
   "id": "59d036de",
   "metadata": {},
   "outputs": [
    {
     "name": "stdout",
     "output_type": "stream",
     "text": [
      "['s', 'a', ['a', 'i', 7, 8, 9]]\n"
     ]
    }
   ],
   "source": [
    "a.pop(2)\n",
    "print(a)"
   ]
  },
  {
   "cell_type": "code",
   "execution_count": 62,
   "id": "8f034524",
   "metadata": {},
   "outputs": [],
   "source": [
    "listy = [1,2,3,4]\n",
    "output = []"
   ]
  },
  {
   "cell_type": "code",
   "execution_count": 63,
   "id": "b8d39770",
   "metadata": {
    "scrolled": true
   },
   "outputs": [],
   "source": [
    "for list in listy:\n",
    "    output.append(list * 2) "
   ]
  },
  {
   "cell_type": "code",
   "execution_count": 64,
   "id": "44e55d36",
   "metadata": {},
   "outputs": [
    {
     "data": {
      "text/plain": [
       "[2, 4, 6, 8]"
      ]
     },
     "execution_count": 64,
     "metadata": {},
     "output_type": "execute_result"
    }
   ],
   "source": [
    "output"
   ]
  },
  {
   "cell_type": "code",
   "execution_count": 58,
   "id": "c9406019",
   "metadata": {},
   "outputs": [],
   "source": [
    "a = 10\n",
    "b = 10"
   ]
  },
  {
   "cell_type": "code",
   "execution_count": 59,
   "id": "403615bd",
   "metadata": {},
   "outputs": [
    {
     "data": {
      "text/plain": [
       "True"
      ]
     },
     "execution_count": 59,
     "metadata": {},
     "output_type": "execute_result"
    }
   ],
   "source": [
    "a is b"
   ]
  },
  {
   "cell_type": "code",
   "execution_count": 60,
   "id": "9c95fca1",
   "metadata": {},
   "outputs": [],
   "source": [
    "a = 'hi!'\n",
    "b = 'hi!'"
   ]
  },
  {
   "cell_type": "code",
   "execution_count": 61,
   "id": "17b59cf3",
   "metadata": {},
   "outputs": [
    {
     "data": {
      "text/plain": [
       "False"
      ]
     },
     "execution_count": 61,
     "metadata": {},
     "output_type": "execute_result"
    }
   ],
   "source": [
    "a is b"
   ]
  },
  {
   "cell_type": "markdown",
   "id": "acd08fa1",
   "metadata": {},
   "source": [
    "## Even number "
   ]
  },
  {
   "cell_type": "code",
   "execution_count": 69,
   "id": "01bd7de3",
   "metadata": {},
   "outputs": [],
   "source": [
    "# Given list\n",
    "list_1 = [43, 20, 53, 12, 53, 5, 3, 2]\n",
    "\n",
    "# Initialize empty lists for even and odd numbers\n",
    "list_even = []\n",
    "list_odd = []"
   ]
  },
  {
   "cell_type": "code",
   "execution_count": 70,
   "id": "99e80843",
   "metadata": {},
   "outputs": [],
   "source": [
    "# Iterate through the list and categorize the numbers\n",
    "for value in list_1:\n",
    "    if (value%2) == 0:\n",
    "        list_even.append(value)\n",
    "    else:\n",
    "        list_odd.append(value)"
   ]
  },
  {
   "cell_type": "code",
   "execution_count": 71,
   "id": "c416b932",
   "metadata": {},
   "outputs": [
    {
     "data": {
      "text/plain": [
       "[20, 12, 2]"
      ]
     },
     "execution_count": 71,
     "metadata": {},
     "output_type": "execute_result"
    }
   ],
   "source": [
    "list_even"
   ]
  },
  {
   "cell_type": "code",
   "execution_count": 72,
   "id": "7633cf69",
   "metadata": {},
   "outputs": [
    {
     "data": {
      "text/plain": [
       "[43, 53, 53, 5, 3]"
      ]
     },
     "execution_count": 72,
     "metadata": {},
     "output_type": "execute_result"
    }
   ],
   "source": [
    "list_odd"
   ]
  },
  {
   "cell_type": "code",
   "execution_count": 76,
   "id": "e364ac7f",
   "metadata": {},
   "outputs": [],
   "source": [
    "my_list = []\n",
    "for value in range(51):\n",
    "    my_list.append(value)"
   ]
  },
  {
   "cell_type": "code",
   "execution_count": 78,
   "id": "300fcbc6",
   "metadata": {},
   "outputs": [
    {
     "name": "stdout",
     "output_type": "stream",
     "text": [
      "Enter number: 5\n"
     ]
    }
   ],
   "source": [
    "my_list = []\n",
    "user_data = int(input(\"Enter number: \"))\n",
    "for value in range(user_data):\n",
    "    my_list.append(value*value)"
   ]
  },
  {
   "cell_type": "code",
   "execution_count": 79,
   "id": "0135ef2b",
   "metadata": {},
   "outputs": [
    {
     "data": {
      "text/plain": [
       "[0, 1, 4, 9, 16]"
      ]
     },
     "execution_count": 79,
     "metadata": {},
     "output_type": "execute_result"
    }
   ],
   "source": [
    "my_list"
   ]
  },
  {
   "cell_type": "code",
   "execution_count": null,
   "id": "b1bfe185",
   "metadata": {},
   "outputs": [],
   "source": []
  }
 ],
 "metadata": {
  "kernelspec": {
   "display_name": "Created first_env",
   "language": "python",
   "name": "first_env"
  },
  "language_info": {
   "codemirror_mode": {
    "name": "ipython",
    "version": 3
   },
   "file_extension": ".py",
   "mimetype": "text/x-python",
   "name": "python",
   "nbconvert_exporter": "python",
   "pygments_lexer": "ipython3",
   "version": "3.11.0"
  }
 },
 "nbformat": 4,
 "nbformat_minor": 5
}
