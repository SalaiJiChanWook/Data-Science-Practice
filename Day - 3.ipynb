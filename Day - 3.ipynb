{
 "cells": [
  {
   "cell_type": "markdown",
   "id": "901e6883",
   "metadata": {},
   "source": [
    "## Day - 3\n"
   ]
  },
  {
   "cell_type": "code",
   "execution_count": 3,
   "id": "096046da",
   "metadata": {},
   "outputs": [
    {
     "name": "stdout",
     "output_type": "stream",
     "text": [
      "Enter your weight in kg: 90\n",
      "Enter your height in meters: 6\n",
      "Your BMI is 2.5 \n",
      " so you are Underweight\n"
     ]
    }
   ],
   "source": [
    "# Python program to calculate BMI\n",
    "def calculate_bmi(weight, height):\n",
    "    bmi = weight / (height ** 2)\n",
    "    if bmi < 18.5:\n",
    "        return \"Underweight\"\n",
    "    elif 18.5 <= bmi < 25:\n",
    "        return \"Normal weight\"\n",
    "    elif 25 <= bmi < 30:\n",
    "        return \"Slightly overweight\"\n",
    "    elif 30 <= bmi < 35:\n",
    "        return \"Obese\"\n",
    "    else:\n",
    "        return \"Clinically obese\"\n",
    "\n",
    "# Taking input from the user\n",
    "weight = float(input(\"Enter your weight in kg: \"))\n",
    "height = float(input(\"Enter your height in meters: \"))\n",
    "\n",
    "# Calculating and interpreting BMI\n",
    "bmi_result = calculate_bmi(weight, height)\n",
    "print(\"Your BMI is\", round(weight / (height ** 2), 2), \"\\n so you are\", bmi_result)"
   ]
  },
  {
   "cell_type": "code",
   "execution_count": null,
   "id": "4c8659cf",
   "metadata": {},
   "outputs": [],
   "source": []
  }
 ],
 "metadata": {
  "kernelspec": {
   "display_name": "Created first_env",
   "language": "python",
   "name": "first_env"
  },
  "language_info": {
   "codemirror_mode": {
    "name": "ipython",
    "version": 3
   },
   "file_extension": ".py",
   "mimetype": "text/x-python",
   "name": "python",
   "nbconvert_exporter": "python",
   "pygments_lexer": "ipython3",
   "version": "3.11.0"
  }
 },
 "nbformat": 4,
 "nbformat_minor": 5
}
