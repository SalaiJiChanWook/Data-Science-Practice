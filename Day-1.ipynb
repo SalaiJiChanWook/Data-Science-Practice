{
 "cells": [
  {
   "cell_type": "markdown",
   "id": "a5f52909",
   "metadata": {},
   "source": [
    "## Day-1 ##"
   ]
  },
  {
   "cell_type": "code",
   "execution_count": 1,
   "id": "34c553eb",
   "metadata": {},
   "outputs": [
    {
     "name": "stdout",
     "output_type": "stream",
     "text": [
      "HelloWorld\n"
     ]
    }
   ],
   "source": [
    "print(\"HelloWorld\")"
   ]
  },
  {
   "cell_type": "markdown",
   "id": "130d65c9",
   "metadata": {},
   "source": [
    "## B for new line  DD for delete cell "
   ]
  },
  {
   "cell_type": "code",
   "execution_count": 6,
   "id": "7c3a8aac",
   "metadata": {},
   "outputs": [],
   "source": [
    "name = \"salai\"\n",
    "age = 23\n",
    "pi = 3.14 \n",
    "is_male = True"
   ]
  },
  {
   "cell_type": "code",
   "execution_count": 7,
   "id": "500d982f",
   "metadata": {},
   "outputs": [
    {
     "name": "stdout",
     "output_type": "stream",
     "text": [
      "<class 'str'>\n",
      "<class 'int'>\n",
      "<class 'float'>\n",
      "<class 'bool'>\n"
     ]
    }
   ],
   "source": [
    "print(type(name))\n",
    "print(type(age))\n",
    "print(type(pi))\n",
    "print(type(is_male))"
   ]
  },
  {
   "cell_type": "code",
   "execution_count": 8,
   "id": "9a3cd2f3",
   "metadata": {},
   "outputs": [],
   "source": [
    "name = \"10\""
   ]
  },
  {
   "cell_type": "code",
   "execution_count": 10,
   "id": "2d5380d3",
   "metadata": {},
   "outputs": [
    {
     "name": "stdout",
     "output_type": "stream",
     "text": [
      "10\n"
     ]
    }
   ],
   "source": [
    "string_to_int = int(name)\n",
    "print(string_to_int)"
   ]
  },
  {
   "cell_type": "code",
   "execution_count": 11,
   "id": "3800397f",
   "metadata": {},
   "outputs": [
    {
     "data": {
      "text/plain": [
       "3"
      ]
     },
     "execution_count": 11,
     "metadata": {},
     "output_type": "execute_result"
    }
   ],
   "source": [
    "int(3.14)"
   ]
  },
  {
   "cell_type": "code",
   "execution_count": 12,
   "id": "0f0d6072",
   "metadata": {},
   "outputs": [
    {
     "data": {
      "text/plain": [
       "'3.14'"
      ]
     },
     "execution_count": 12,
     "metadata": {},
     "output_type": "execute_result"
    }
   ],
   "source": [
    "str(3.14)"
   ]
  },
  {
   "cell_type": "code",
   "execution_count": null,
   "id": "dcfe9c3d",
   "metadata": {},
   "outputs": [],
   "source": []
  }
 ],
 "metadata": {
  "kernelspec": {
   "display_name": "Created first_env",
   "language": "python",
   "name": "first_env"
  },
  "language_info": {
   "codemirror_mode": {
    "name": "ipython",
    "version": 3
   },
   "file_extension": ".py",
   "mimetype": "text/x-python",
   "name": "python",
   "nbconvert_exporter": "python",
   "pygments_lexer": "ipython3",
   "version": "3.11.0"
  }
 },
 "nbformat": 4,
 "nbformat_minor": 5
}
