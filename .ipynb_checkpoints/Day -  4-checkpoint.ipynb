{
 "cells": [
  {
   "cell_type": "markdown",
   "id": "b0f526d1",
   "metadata": {},
   "source": [
    "## Day - 3"
   ]
  },
  {
   "cell_type": "code",
   "execution_count": 32,
   "id": "67a53ebc",
   "metadata": {},
   "outputs": [],
   "source": [
    "a = ['s','a','l']\n",
    "b = ['a','i']\n",
    "c = [7,8,9]"
   ]
  },
  {
   "cell_type": "code",
   "execution_count": 33,
   "id": "c4cadeac",
   "metadata": {},
   "outputs": [
    {
     "name": "stdout",
     "output_type": "stream",
     "text": [
      "['s', 'a', 'l', ['a', 'i']]\n"
     ]
    }
   ],
   "source": [
    "a.append(b)\n",
    "print(a)"
   ]
  },
  {
   "cell_type": "code",
   "execution_count": 34,
   "id": "0f8b4c85",
   "metadata": {},
   "outputs": [
    {
     "name": "stdout",
     "output_type": "stream",
     "text": [
      "['a', 'i', 7, 8, 9]\n"
     ]
    }
   ],
   "source": [
    "b.extend(c)\n",
    "print(b)"
   ]
  },
  {
   "cell_type": "code",
   "execution_count": 35,
   "id": "8b0cbabc",
   "metadata": {},
   "outputs": [
    {
     "name": "stdout",
     "output_type": "stream",
     "text": [
      "['s', 'a', ['a', 'i', 7, 8, 9]]\n"
     ]
    }
   ],
   "source": [
    "a.pop(2)\n",
    "print(a)"
   ]
  },
  {
   "cell_type": "code",
   "execution_count": 54,
   "id": "38ac2183",
   "metadata": {},
   "outputs": [],
   "source": [
    "listy = [1,2,3,4]"
   ]
  },
  {
   "cell_type": "code",
   "execution_count": 55,
   "id": "05ad28dc",
   "metadata": {},
   "outputs": [
    {
     "ename": "SyntaxError",
     "evalue": "'return' outside function (1857576291.py, line 3)",
     "output_type": "error",
     "traceback": [
      "\u001b[1;36m  Cell \u001b[1;32mIn[55], line 3\u001b[1;36m\u001b[0m\n\u001b[1;33m    return output\u001b[0m\n\u001b[1;37m    ^\u001b[0m\n\u001b[1;31mSyntaxError\u001b[0m\u001b[1;31m:\u001b[0m 'return' outside function\n"
     ]
    }
   ],
   "source": [
    "for list in listy:\n",
    "    output = list * 2\n",
    "    print(output)"
   ]
  },
  {
   "cell_type": "code",
   "execution_count": 38,
   "id": "6edc4fa7",
   "metadata": {},
   "outputs": [],
   "source": [
    "a = 10\n",
    "b = 10"
   ]
  },
  {
   "cell_type": "code",
   "execution_count": 39,
   "id": "25fea636",
   "metadata": {},
   "outputs": [
    {
     "data": {
      "text/plain": [
       "True"
      ]
     },
     "execution_count": 39,
     "metadata": {},
     "output_type": "execute_result"
    }
   ],
   "source": [
    "a is b"
   ]
  },
  {
   "cell_type": "code",
   "execution_count": 44,
   "id": "ad431e32",
   "metadata": {},
   "outputs": [],
   "source": [
    "a = 'hi!'\n",
    "b = 'hi!'"
   ]
  },
  {
   "cell_type": "code",
   "execution_count": 45,
   "id": "a50ea3d6",
   "metadata": {},
   "outputs": [
    {
     "name": "stdout",
     "output_type": "stream",
     "text": [
      "hi!\n"
     ]
    }
   ],
   "source": [
    "a is b"
   ]
  },
  {
   "cell_type": "code",
   "execution_count": null,
   "id": "9d5457bb",
   "metadata": {},
   "outputs": [],
   "source": []
  }
 ],
 "metadata": {
  "kernelspec": {
   "display_name": "Created first_env",
   "language": "python",
   "name": "first_env"
  },
  "language_info": {
   "codemirror_mode": {
    "name": "ipython",
    "version": 3
   },
   "file_extension": ".py",
   "mimetype": "text/x-python",
   "name": "python",
   "nbconvert_exporter": "python",
   "pygments_lexer": "ipython3",
   "version": "3.11.0"
  }
 },
 "nbformat": 4,
 "nbformat_minor": 5
}
