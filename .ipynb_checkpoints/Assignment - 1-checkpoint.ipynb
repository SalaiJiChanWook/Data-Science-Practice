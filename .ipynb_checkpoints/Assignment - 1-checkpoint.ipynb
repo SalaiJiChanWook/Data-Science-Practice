{
 "cells": [
  {
   "cell_type": "markdown",
   "id": "0c4becee",
   "metadata": {},
   "source": [
    "## 1. Pet City"
   ]
  },
  {
   "cell_type": "code",
   "execution_count": 54,
   "id": "4382d6eb",
   "metadata": {},
   "outputs": [],
   "source": [
    "\n",
    "def collect_pet_id():\n",
    "    pet = input(\"Enter Pet's Name: \")\n",
    "    city = input(\"Enter pet grew up city name: \")\n",
    "    \n",
    "    print(\"Collecting...\")\n",
    "    print(\"Showing the data...\")\n",
    "    \n",
    "    return \"The pet name is {} and born in {} city\".format(pet, city)"
   ]
  },
  {
   "cell_type": "code",
   "execution_count": 55,
   "id": "72913869",
   "metadata": {
    "scrolled": true
   },
   "outputs": [
    {
     "name": "stdout",
     "output_type": "stream",
     "text": [
      "Enter Pet's Name: af\n",
      "Enter pet grew up city name: dsad\n",
      "Collecting...\n",
      "Showing the data...\n"
     ]
    },
    {
     "data": {
      "text/plain": [
       "'The pet name is af and born in dsad city'"
      ]
     },
     "execution_count": 55,
     "metadata": {},
     "output_type": "execute_result"
    }
   ],
   "source": [
    "collect_pet_id()"
   ]
  },
  {
   "cell_type": "markdown",
   "id": "e2a9a3ee",
   "metadata": {},
   "source": [
    "## 2. Data types"
   ]
  },
  {
   "cell_type": "code",
   "execution_count": null,
   "id": "96e2449e",
   "metadata": {},
   "outputs": [],
   "source": [
    "import numpy as np\n",
    "\n",
    "def collect_two_digit():\n",
    "    firstNum = int(input(\"Enter First Number: \")) #first user input number\n",
    "    secondNum = int(input(\"Enter Second Number: \")) #second user input number\n",
    "    \n",
    "    print(\"Collecting...\")\n",
    "    arr = np.array([firstNum, secondNum])  #creating the np array \n",
    "    print(\"Showing the data...\")\n",
    "    print(\" {} + {} = {} \\n {}\".format(firstNum, secondNum, np.sum(arr), sum([firstNum,secondNum])))\n",
    "    "
   ]
  },
  {
   "cell_type": "code",
   "execution_count": null,
   "id": "118e3b10",
   "metadata": {},
   "outputs": [],
   "source": [
    "collect_two_digit()"
   ]
  },
  {
   "cell_type": "markdown",
   "id": "9c0214e2",
   "metadata": {},
   "source": [
    "## 3. Tip calculator"
   ]
  },
  {
   "cell_type": "code",
   "execution_count": 2,
   "id": "de85c671",
   "metadata": {},
   "outputs": [
    {
     "name": "stdout",
     "output_type": "stream",
     "text": [
      "What was the total bill? $124.56\n",
      "How much tip would you like to give? 10, 12, or 15? 12\n",
      "How many people to split the bill? 7\n",
      "Each person should pay: $19.930\n"
     ]
    }
   ],
   "source": [
    "def tip_calculator():\n",
    "    total_bill = float(input(\"What was the total bill? $\"))\n",
    "    tip_percentage = int(input(\"How much tip would you like to give? 10, 12, or 15? \"))\n",
    "    people = int(input(\"How many people to split the bill? \"))\n",
    "    \n",
    "    tip_amount = total_bill * tip_percentage / 100\n",
    "    total_amount = total_bill + tip_amount\n",
    "    amount_per_person = total_amount / people\n",
    "    \n",
    "    print(f\"Each person should pay: ${amount_per_person:.3f}\")\n",
    "\n",
    "tip_calculator()"
   ]
  },
  {
   "cell_type": "markdown",
   "id": "c51f8efc",
   "metadata": {},
   "source": [
    "## 4.Even or Odd"
   ]
  },
  {
   "cell_type": "code",
   "execution_count": null,
   "id": "29c67fab",
   "metadata": {},
   "outputs": [],
   "source": [
    "import numpy as np\n",
    "\n",
    "def is_even_or_odd(number):\n",
    "    number = int(input(\"Enter number\"))\n",
    "    \n",
    "    if (np.mod(number, 2) == 0):\n",
    "        print(\"The number {} is a even number.\".format(number))\n",
    "\n",
    "    else:\n",
    "        print(\"The number {} is a odd number.\".format(number))\n"
   ]
  }
 ],
 "metadata": {
  "kernelspec": {
   "display_name": "Created first_env",
   "language": "python",
   "name": "first_env"
  },
  "language_info": {
   "codemirror_mode": {
    "name": "ipython",
    "version": 3
   },
   "file_extension": ".py",
   "mimetype": "text/x-python",
   "name": "python",
   "nbconvert_exporter": "python",
   "pygments_lexer": "ipython3",
   "version": "3.11.0"
  }
 },
 "nbformat": 4,
 "nbformat_minor": 5
}
