{
 "cells": [
  {
   "cell_type": "markdown",
   "id": "65925c4e",
   "metadata": {},
   "source": [
    "## Day - 2"
   ]
  },
  {
   "cell_type": "code",
   "execution_count": 1,
   "id": "a4e74711",
   "metadata": {},
   "outputs": [],
   "source": [
    " name = 'JAAMES'"
   ]
  },
  {
   "cell_type": "code",
   "execution_count": 18,
   "id": "3b5abeca",
   "metadata": {},
   "outputs": [
    {
     "data": {
      "text/plain": [
       "('J', 'M', 'S')"
      ]
     },
     "execution_count": 18,
     "metadata": {},
     "output_type": "execute_result"
    }
   ],
   "source": [
    "(name[0],name[int(len(name)/2)],name[-1])"
   ]
  },
  {
   "cell_type": "code",
   "execution_count": 19,
   "id": "6f76f6cd",
   "metadata": {},
   "outputs": [
    {
     "name": "stdout",
     "output_type": "stream",
     "text": [
      "Jms\n"
     ]
    }
   ],
   "source": [
    "name=\"James\"\n",
    "print(name[0]+name[int(len(name)/2)]+name[-1])"
   ]
  },
  {
   "cell_type": "code",
   "execution_count": 24,
   "id": "fd9fa07e",
   "metadata": {},
   "outputs": [
    {
     "data": {
      "text/plain": [
       "'James'"
      ]
     },
     "execution_count": 24,
     "metadata": {},
     "output_type": "execute_result"
    }
   ],
   "source": [
    "name.upper()\n",
    "name.lower()\n",
    "name.capitalize()"
   ]
  },
  {
   "cell_type": "markdown",
   "id": "58926d1b",
   "metadata": {},
   "source": [
    "## Function"
   ]
  },
  {
   "cell_type": "code",
   "execution_count": 72,
   "id": "a4a5ff89",
   "metadata": {},
   "outputs": [],
   "source": [
    "def Search_fun(name):\n",
    "    first = \"first char is: \", name[0].upper()\n",
    "    mid = \"the middle char is: \", name[int(len(name)/2)].upper()\n",
    "    last = \"the last char is: \",name[-1].upper()\n",
    "    \n",
    "    return first,mid,last"
   ]
  },
  {
   "cell_type": "code",
   "execution_count": 73,
   "id": "884a68a4",
   "metadata": {},
   "outputs": [],
   "source": [
    "outPut = Search_fun(\"jammmmes\")"
   ]
  },
  {
   "cell_type": "code",
   "execution_count": 74,
   "id": "a04e0b92",
   "metadata": {},
   "outputs": [
    {
     "data": {
      "text/plain": [
       "\"The out put is (('first char is: ', 'J'), ('the middle char is: ', 'M'), ('the last char is: ', 'S')) \""
      ]
     },
     "execution_count": 74,
     "metadata": {},
     "output_type": "execute_result"
    }
   ],
   "source": [
    "\"The out put is {} \".format(outPut)"
   ]
  },
  {
   "cell_type": "code",
   "execution_count": null,
   "id": "0de67ccf",
   "metadata": {},
   "outputs": [],
   "source": []
  }
 ],
 "metadata": {
  "kernelspec": {
   "display_name": "Created first_env",
   "language": "python",
   "name": "first_env"
  },
  "language_info": {
   "codemirror_mode": {
    "name": "ipython",
    "version": 3
   },
   "file_extension": ".py",
   "mimetype": "text/x-python",
   "name": "python",
   "nbconvert_exporter": "python",
   "pygments_lexer": "ipython3",
   "version": "3.11.0"
  }
 },
 "nbformat": 4,
 "nbformat_minor": 5
}
