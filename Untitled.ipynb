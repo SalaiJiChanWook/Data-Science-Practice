{
 "cells": [
  {
   "cell_type": "code",
   "execution_count": 1,
   "id": "6321b9a3",
   "metadata": {},
   "outputs": [
    {
     "name": "stdout",
     "output_type": "stream",
     "text": [
      "5, 2, -1, -4, "
     ]
    }
   ],
   "source": [
    "for number in range(5,-5,-3):\n",
    "\n",
    "    print(number, end=\", \")\n"
   ]
  },
  {
   "cell_type": "code",
   "execution_count": 2,
   "id": "df26a1e3",
   "metadata": {},
   "outputs": [
    {
     "name": "stdout",
     "output_type": "stream",
     "text": [
      "['h', 'l', 'l']\n"
     ]
    }
   ],
   "source": [
    "x=\"hello\"\n",
    "\n",
    "y=['a', 'e', 'i', 'o', 'u']\n",
    "\n",
    "z = [w for w in x if w not in y]\n",
    "\n",
    "print(z)\n"
   ]
  },
  {
   "cell_type": "code",
   "execution_count": 3,
   "id": "d38e3bb8",
   "metadata": {},
   "outputs": [
    {
     "name": "stdout",
     "output_type": "stream",
     "text": [
      "{0: 'YANGON', 1: 'MANDALAY', 2: 'BAGO'}\n"
     ]
    }
   ],
   "source": [
    "s=[\"yangon\", \"mandalay\", \"bago\"]\n",
    "\n",
    "print({i:w.upper() for i,w in enumerate(s)})"
   ]
  },
  {
   "cell_type": "code",
   "execution_count": 4,
   "id": "411b955a",
   "metadata": {},
   "outputs": [
    {
     "name": "stdout",
     "output_type": "stream",
     "text": [
      "[4, 3, 2]\n"
     ]
    }
   ],
   "source": [
    "l1=[2, 3, 4]\n",
    "\n",
    "l2=[8, 9, 10]\n",
    "\n",
    "l3=[round(y/x) for x, y in zip(l1, l2)]\n",
    "\n",
    "print(l3)"
   ]
  },
  {
   "cell_type": "code",
   "execution_count": 5,
   "id": "6e10baab",
   "metadata": {},
   "outputs": [
    {
     "name": "stdout",
     "output_type": "stream",
     "text": [
      "a,a,a,a,a,a,"
     ]
    }
   ],
   "source": [
    "x = \"abcdef\"\n",
    "i = \"a\"\n",
    "while i in x:\n",
    "    x = x[:-1]\n",
    "    print(i,end=',')\n",
    "    "
   ]
  },
  {
   "cell_type": "code",
   "execution_count": 6,
   "id": "d66c598f",
   "metadata": {},
   "outputs": [
    {
     "name": "stdout",
     "output_type": "stream",
     "text": [
      "2,3,4,0\n"
     ]
    }
   ],
   "source": [
    "i = 1\n",
    "while i < 4: \n",
    "    \n",
    "    i += 1\n",
    "    \n",
    "    print(i,end=',') \n",
    "    \n",
    "else: \n",
    "    \n",
    "    print(0)"
   ]
  },
  {
   "cell_type": "code",
   "execution_count": 7,
   "id": "fb4bdc44",
   "metadata": {},
   "outputs": [
    {
     "name": "stdout",
     "output_type": "stream",
     "text": [
      "2\n"
     ]
    }
   ],
   "source": [
    "func = lambda x: x\n",
    "print(func(2))"
   ]
  },
  {
   "cell_type": "code",
   "execution_count": null,
   "id": "955a70eb",
   "metadata": {},
   "outputs": [],
   "source": [
    "from functools import reduce\n",
    "numbers = [1, 2, 3]\n",
    "reduce(lambda x, y: x + y, numbers)\n"
   ]
  },
  {
   "cell_type": "code",
   "execution_count": 1,
   "id": "d4224332",
   "metadata": {},
   "outputs": [
    {
     "name": "stdout",
     "output_type": "stream",
     "text": [
      "Study a Elysian\n"
     ]
    }
   ],
   "source": [
    "str1 = \"Study at\"\n",
    "\n",
    "print(str1[:7] + \" Elysian\")"
   ]
  },
  {
   "cell_type": "code",
   "execution_count": 2,
   "id": "b24ac5f1",
   "metadata": {},
   "outputs": [
    {
     "name": "stdout",
     "output_type": "stream",
     "text": [
      "My name is james bond\n"
     ]
    }
   ],
   "source": [
    "str = \"my name is James Bond\";\n",
    "\n",
    "print (str.capitalize())"
   ]
  },
  {
   "cell_type": "code",
   "execution_count": 3,
   "id": "cda6df44",
   "metadata": {},
   "outputs": [
    {
     "name": "stdout",
     "output_type": "stream",
     "text": [
      "[3, 6, 5, 5, 25, 1, 4]\n"
     ]
    }
   ],
   "source": [
    "list1 =[3, 6, 5, 20, 5, 25, 1, 4]\n",
    "\n",
    "list1.pop(3)\n",
    "\n",
    "print(list1)"
   ]
  },
  {
   "cell_type": "code",
   "execution_count": 4,
   "id": "91b98353",
   "metadata": {},
   "outputs": [
    {
     "name": "stdout",
     "output_type": "stream",
     "text": [
      "4\n"
     ]
    }
   ],
   "source": [
    "print(4*1**3)"
   ]
  },
  {
   "cell_type": "code",
   "execution_count": 5,
   "id": "58b1038c",
   "metadata": {},
   "outputs": [
    {
     "name": "stdout",
     "output_type": "stream",
     "text": [
      "[35, 16, 6]\n"
     ]
    }
   ],
   "source": [
    "aList = [6, 10, 16, 26, 35]\n",
    "\n",
    "print(aList[::-2])"
   ]
  },
  {
   "cell_type": "code",
   "execution_count": 6,
   "id": "45902ee7",
   "metadata": {},
   "outputs": [
    {
     "name": "stdout",
     "output_type": "stream",
     "text": [
      "5, 2, -1, -4, "
     ]
    }
   ],
   "source": [
    "for number in range(5,-5,-3):\n",
    "\n",
    "    print(number, end=\", \")"
   ]
  },
  {
   "cell_type": "code",
   "execution_count": 7,
   "id": "99b86f51",
   "metadata": {},
   "outputs": [
    {
     "name": "stdout",
     "output_type": "stream",
     "text": [
      "[4, 3, 2]\n"
     ]
    }
   ],
   "source": [
    "\n",
    "l1=[2, 3, 4]\n",
    "\n",
    "l2=[8, 9, 10]\n",
    "\n",
    "l3=[round(y/x) for x, y in zip(l1, l2)]\n",
    "\n",
    "print(l3)\n"
   ]
  },
  {
   "cell_type": "code",
   "execution_count": 8,
   "id": "d668f864",
   "metadata": {},
   "outputs": [
    {
     "name": "stdout",
     "output_type": "stream",
     "text": [
      "2,3,4,0\n"
     ]
    }
   ],
   "source": [
    "i = 1\n",
    "while i < 4: \n",
    "    \n",
    "    i += 1\n",
    "    \n",
    "    print(i,end=',') \n",
    "    \n",
    "else: \n",
    "    \n",
    "    print(0)"
   ]
  },
  {
   "cell_type": "code",
   "execution_count": 9,
   "id": "962cda7a",
   "metadata": {},
   "outputs": [
    {
     "data": {
      "text/plain": [
       "6"
      ]
     },
     "execution_count": 9,
     "metadata": {},
     "output_type": "execute_result"
    }
   ],
   "source": [
    "from functools import reduce\n",
    "numbers = [1, 2, 3]\n",
    "reduce(lambda x, y: x + y, numbers)"
   ]
  },
  {
   "cell_type": "code",
   "execution_count": null,
   "id": "9e5201b2",
   "metadata": {},
   "outputs": [],
   "source": []
  }
 ],
 "metadata": {
  "kernelspec": {
   "display_name": "Created first_env",
   "language": "python",
   "name": "first_env"
  },
  "language_info": {
   "codemirror_mode": {
    "name": "ipython",
    "version": 3
   },
   "file_extension": ".py",
   "mimetype": "text/x-python",
   "name": "python",
   "nbconvert_exporter": "python",
   "pygments_lexer": "ipython3",
   "version": "3.11.0"
  }
 },
 "nbformat": 4,
 "nbformat_minor": 5
}
