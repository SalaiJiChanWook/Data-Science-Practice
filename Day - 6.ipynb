{
 "cells": [
  {
   "cell_type": "markdown",
   "id": "954a1837",
   "metadata": {},
   "source": [
    "## Day - 6"
   ]
  },
  {
   "cell_type": "code",
   "execution_count": 9,
   "id": "c55f13fa",
   "metadata": {},
   "outputs": [],
   "source": [
    "key = ['Ten', 'Twenty', 'Thirty']\n",
    "value = [10, 20, 30]\n",
    "output = {}  # Initialize an empty dictionary\n",
    "\n",
    "for i in range(len(key)):\n",
    "    output[key[i]] = value[i]\n",
    "\n",
    "\n"
   ]
  },
  {
   "cell_type": "code",
   "execution_count": 10,
   "id": "a22ff9ad",
   "metadata": {},
   "outputs": [
    {
     "name": "stdout",
     "output_type": "stream",
     "text": [
      "{'Ten': 10, 'Twenty': 20, 'Thirty': 30}\n"
     ]
    }
   ],
   "source": [
    "print(output)"
   ]
  },
  {
   "cell_type": "code",
   "execution_count": 11,
   "id": "dd1e5d1f",
   "metadata": {},
   "outputs": [
    {
     "name": "stdout",
     "output_type": "stream",
     "text": [
      "{'Ten': 10}\n",
      "{'Twenty': 20}\n",
      "{'Thirty': 30}\n"
     ]
    }
   ],
   "source": [
    "key = ['Ten', 'Twenty', 'Thirty']\n",
    "value = [10, 20, 30]\n",
    "\n",
    "for k, v in zip(key, value):\n",
    "    print({k: v})\n"
   ]
  },
  {
   "cell_type": "code",
   "execution_count": null,
   "id": "a02fc6fa",
   "metadata": {},
   "outputs": [],
   "source": []
  }
 ],
 "metadata": {
  "kernelspec": {
   "display_name": "Created first_env",
   "language": "python",
   "name": "first_env"
  },
  "language_info": {
   "codemirror_mode": {
    "name": "ipython",
    "version": 3
   },
   "file_extension": ".py",
   "mimetype": "text/x-python",
   "name": "python",
   "nbconvert_exporter": "python",
   "pygments_lexer": "ipython3",
   "version": "3.11.0"
  }
 },
 "nbformat": 4,
 "nbformat_minor": 5
}
